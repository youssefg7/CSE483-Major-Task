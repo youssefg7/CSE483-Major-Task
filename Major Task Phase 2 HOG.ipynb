{
 "cells": [
  {
   "attachments": {},
   "cell_type": "markdown",
   "metadata": {},
   "source": [
    "<h1>CSE483 Computer Vision Major Task - Phase 2</h1>\n",
    "<h2>Team 1</h2>\n",
    "<ul>\n",
    "<li>Youssef George 19p9824</li>\n",
    "<li>Kerollos Wageeh 19p3468</li>\n",
    "<li>Nada Amr 19p1621</li>\n",
    "</ul>"
   ]
  },
  {
   "attachments": {},
   "cell_type": "markdown",
   "metadata": {},
   "source": [
    "## Import Libraries\n",
    "- Use \"pip install libName\" in terminal if any of them is not installed on your machine."
   ]
  },
  {
   "cell_type": "code",
   "execution_count": 3,
   "metadata": {},
   "outputs": [],
   "source": [
    "import numpy as np\n",
    "import cv2\n",
    "from scipy.io import loadmat\n",
    "import json\n",
    "import statistics\n",
    "import torch\n",
    "from torchvision import ops\n",
    "from operator import itemgetter\n",
    "import random\n",
    "import tensorflow as tf\n",
    "import matplotlib.pyplot as plt\n",
    "import scipy\n",
    "import glob\n",
    "# from skimage.feature import hog\n",
    "from sklearn.neighbors import KNeighborsClassifier\n",
    "from collections import Counter\n",
    "import warnings\n",
    "warnings.filterwarnings(\"ignore\", category=np.VisibleDeprecationWarning)"
   ]
  },
  {
   "attachments": {},
   "cell_type": "markdown",
   "metadata": {},
   "source": [
    "## Custom Fns"
   ]
  },
  {
   "cell_type": "code",
   "execution_count": 10,
   "metadata": {},
   "outputs": [],
   "source": [
    "# Define the HOG parameters\n",
    "cell_size = (8, 8)\n",
    "block_size = (16, 16)\n",
    "orientations = 9"
   ]
  },
  {
   "cell_type": "code",
   "execution_count": 37,
   "metadata": {},
   "outputs": [],
   "source": [
    "# Fn import pics, labels, true boxes\n",
    "def getPics(chosen_set):\n",
    "    images = []\n",
    "    labels = []\n",
    "    boxes = []\n",
    "    \n",
    "    picsFolder_path = \"SVHN/\" + chosen_set + \"/\"\n",
    "    with open(picsFolder_path + 'digitStruct.json') as f:\n",
    "        data = json.load(f)\n",
    "    with open(picsFolder_path + 'phase1Output.json') as f:\n",
    "        selected_boxes = json.load(f)\n",
    "\n",
    "# import colored pictures\n",
    "    for i in range(len(data)):\n",
    "        image = cv2.imread(picsFolder_path + data[i]['filename'])\n",
    "        image = cv2.cvtColor(image,cv2.COLOR_BGR2RGB)\n",
    "        images.append(image)\n",
    "        temp=[]\n",
    "        for j in range(len(data[i]['boxes'])):\n",
    "            temp.append(data[i]['boxes'][j]['label'])\n",
    "        temp = np.array(temp)\n",
    "        labels.append(temp)\n",
    "        boxes.append(selected_boxes[i]['selected_boxes'+str(i)])\n",
    "\n",
    "    print(\"There are \", len(data), \" images in \" + chosen_set + \" set.\")\n",
    "    return images, labels, boxes"
   ]
  },
  {
   "cell_type": "code",
   "execution_count": 38,
   "metadata": {},
   "outputs": [],
   "source": [
    "def getPicsCropped(chosen_set):\n",
    "    images = []\n",
    "    gs_images = []\n",
    "    labels = []\n",
    "    boxes = []\n",
    "\n",
    "    picsFolder_path = \"SVHN/\" + chosen_set + \"_32x32.mat\"\n",
    "    data = scipy.io.loadmat(picsFolder_path)\n",
    "    images = data['X']\n",
    "    labels = data['y']\n",
    "    images = np.array(images)\n",
    "    images = np.moveaxis(images, -1, 0)\n",
    "    gs_images = np.array(gs_images)\n",
    "    gs_images = np.moveaxis(gs_images, -1, 0)\n",
    "    labels = np.array(labels)\n",
    "    print(images.shape[0],\"cropped images in 32x32 \" + chosen_set + \" set.\")\n",
    "    return images, labels"
   ]
  },
  {
   "cell_type": "code",
   "execution_count": 39,
   "metadata": {},
   "outputs": [
    {
     "name": "stdout",
     "output_type": "stream",
     "text": [
      "There are  33402  images in train set.\n"
     ]
    }
   ],
   "source": [
    "train_images_all, train_labels_all, train_boxes_all = getPics(\"train\")"
   ]
  },
  {
   "cell_type": "code",
   "execution_count": 40,
   "metadata": {},
   "outputs": [
    {
     "data": {
      "text/plain": [
       "[[100, 28, 121, 57]]"
      ]
     },
     "execution_count": 40,
     "metadata": {},
     "output_type": "execute_result"
    }
   ],
   "source": [
    "train_boxes_all[1]"
   ]
  },
  {
   "cell_type": "code",
   "execution_count": 41,
   "metadata": {},
   "outputs": [],
   "source": [
    "def cropImages(image, boxes):\n",
    "    img = image.copy()\n",
    "    img = cv2.cvtColor(img,cv2.COLOR_RGB2GRAY)\n",
    "    cropped = []\n",
    "    for box in boxes:\n",
    "        cropped.append(img[box[1]:box[3], box[0]:box[2]])\n",
    "    return cropped"
   ]
  },
  {
   "cell_type": "code",
   "execution_count": 42,
   "metadata": {},
   "outputs": [],
   "source": [
    "def getTemplatesPics():\n",
    "    templates = []\n",
    "    labels = []\n",
    "    picsFolder_path = \"Matching/\"\n",
    "\n",
    "    srtd_dir = sorted(glob.glob(picsFolder_path + \"/*.jpg\"))\n",
    "    # import colored pictures\n",
    "    for image_path in srtd_dir:\n",
    "        image = cv2.imread(image_path)\n",
    "        image = cv2.cvtColor(image, cv2.COLOR_BGR2RGB)\n",
    "        image = cv2.cvtColor(image, cv2.COLOR_RGB2GRAY)\n",
    "        template = {'label':int(image_path[9]), 'image':image}\n",
    "        templates.append(template)\n",
    "    return templates"
   ]
  },
  {
   "cell_type": "code",
   "execution_count": 43,
   "metadata": {},
   "outputs": [],
   "source": [
    "def extract_hog_features(image):\n",
    "    resized_image = cv2.resize(image, (64, 128))\n",
    "    hog = cv2.HOGDescriptor()\n",
    "    hog_features = hog.compute(resized_image)\n",
    "    hog_features = np.array(hog_features).flatten()\n",
    "    return hog_features"
   ]
  },
  {
   "cell_type": "code",
   "execution_count": 44,
   "metadata": {},
   "outputs": [],
   "source": [
    "def getTemplatesHOGs():\n",
    "    templates = getTemplatesPics()\n",
    "    full_templates = []\n",
    "    for template in templates:\n",
    "        template['descriptor'] = extract_hog_features(template['image'])\n",
    "        full_templates.append(template)\n",
    "    return full_templates"
   ]
  },
  {
   "cell_type": "code",
   "execution_count": 45,
   "metadata": {},
   "outputs": [],
   "source": [
    "def calcPicRecall(trueLabels, predictedLabels):\n",
    "    truePredictions = list((Counter(trueLabels) & Counter(predictedLabels)).elements())\n",
    "    recall = len(truePredictions)/len(predictedLabels)\n",
    "    return recall"
   ]
  },
  {
   "cell_type": "code",
   "execution_count": 48,
   "metadata": {},
   "outputs": [],
   "source": [
    "def MSD(img_hog, tmps_data):\n",
    "    img_hog = np.array(img_hog)\n",
    "    tmps_data = np.array(tmps_data)\n",
    "    return np.argmin(np.sum((tmps_data - img_hog) ** 2, axis=1))"
   ]
  },
  {
   "cell_type": "code",
   "execution_count": 49,
   "metadata": {},
   "outputs": [],
   "source": [
    "def predictImage(image, boxes, tmps_data, tmps_labels):\n",
    "    croppedImages = cropImages(image,boxes)\n",
    "    predictions = []\n",
    "    for img in croppedImages:\n",
    "        img_hog = extract_hog_features(img)\n",
    "        idx = MSD(img_hog, tmps_data)\n",
    "        predictions.append(tmps_labels[idx])\n",
    "    return predictions"
   ]
  },
  {
   "cell_type": "code",
   "execution_count": 50,
   "metadata": {},
   "outputs": [
    {
     "name": "stdout",
     "output_type": "stream",
     "text": [
      "1 0.5031609930893268\n"
     ]
    },
    {
     "ename": "KeyboardInterrupt",
     "evalue": "",
     "output_type": "error",
     "traceback": [
      "\u001b[1;31m---------------------------------------------------------------------------\u001b[0m",
      "\u001b[1;31mKeyboardInterrupt\u001b[0m                         Traceback (most recent call last)",
      "\u001b[1;32me:\\University\\Senior-1\\Semester 8\\Computer Vision\\Project\\CSE483-Major-Task\\Major Task Phase 2 HOG.ipynb Cell 17\u001b[0m in \u001b[0;36m<cell line: 1>\u001b[1;34m()\u001b[0m\n\u001b[0;32m     <a href='vscode-notebook-cell:/e%3A/University/Senior-1/Semester%208/Computer%20Vision/Project/CSE483-Major-Task/Major%20Task%20Phase%202%20HOG.ipynb#X21sZmlsZQ%3D%3D?line=10'>11</a>\u001b[0m         \u001b[39mcontinue\u001b[39;00m\n\u001b[0;32m     <a href='vscode-notebook-cell:/e%3A/University/Senior-1/Semester%208/Computer%20Vision/Project/CSE483-Major-Task/Major%20Task%20Phase%202%20HOG.ipynb#X21sZmlsZQ%3D%3D?line=11'>12</a>\u001b[0m     \u001b[39m# predictImage(image,boxes,knn)\u001b[39;00m\n\u001b[1;32m---> <a href='vscode-notebook-cell:/e%3A/University/Senior-1/Semester%208/Computer%20Vision/Project/CSE483-Major-Task/Major%20Task%20Phase%202%20HOG.ipynb#X21sZmlsZQ%3D%3D?line=12'>13</a>\u001b[0m     x \u001b[39m=\u001b[39m calcPicRecall(\u001b[39mlist\u001b[39m(label), predictImage(image, boxes, tmps_data, tmps_labels))\n\u001b[0;32m     <a href='vscode-notebook-cell:/e%3A/University/Senior-1/Semester%208/Computer%20Vision/Project/CSE483-Major-Task/Major%20Task%20Phase%202%20HOG.ipynb#X21sZmlsZQ%3D%3D?line=13'>14</a>\u001b[0m     acc\u001b[39m.\u001b[39mappend(x)\n\u001b[0;32m     <a href='vscode-notebook-cell:/e%3A/University/Senior-1/Semester%208/Computer%20Vision/Project/CSE483-Major-Task/Major%20Task%20Phase%202%20HOG.ipynb#X21sZmlsZQ%3D%3D?line=14'>15</a>\u001b[0m \u001b[39mprint\u001b[39m(k, np\u001b[39m.\u001b[39maverage(acc))\n",
      "\u001b[1;32me:\\University\\Senior-1\\Semester 8\\Computer Vision\\Project\\CSE483-Major-Task\\Major Task Phase 2 HOG.ipynb Cell 17\u001b[0m in \u001b[0;36mpredictImage\u001b[1;34m(image, boxes, tmps_data, tmps_labels)\u001b[0m\n\u001b[0;32m      <a href='vscode-notebook-cell:/e%3A/University/Senior-1/Semester%208/Computer%20Vision/Project/CSE483-Major-Task/Major%20Task%20Phase%202%20HOG.ipynb#X21sZmlsZQ%3D%3D?line=3'>4</a>\u001b[0m \u001b[39mfor\u001b[39;00m img \u001b[39min\u001b[39;00m croppedImages:\n\u001b[0;32m      <a href='vscode-notebook-cell:/e%3A/University/Senior-1/Semester%208/Computer%20Vision/Project/CSE483-Major-Task/Major%20Task%20Phase%202%20HOG.ipynb#X21sZmlsZQ%3D%3D?line=4'>5</a>\u001b[0m     img_hog \u001b[39m=\u001b[39m extract_hog_features(img)\n\u001b[1;32m----> <a href='vscode-notebook-cell:/e%3A/University/Senior-1/Semester%208/Computer%20Vision/Project/CSE483-Major-Task/Major%20Task%20Phase%202%20HOG.ipynb#X21sZmlsZQ%3D%3D?line=5'>6</a>\u001b[0m     idx \u001b[39m=\u001b[39m MSD(img_hog, tmps_data)\n\u001b[0;32m      <a href='vscode-notebook-cell:/e%3A/University/Senior-1/Semester%208/Computer%20Vision/Project/CSE483-Major-Task/Major%20Task%20Phase%202%20HOG.ipynb#X21sZmlsZQ%3D%3D?line=6'>7</a>\u001b[0m     predictions\u001b[39m.\u001b[39mappend(tmps_labels[idx])\n\u001b[0;32m      <a href='vscode-notebook-cell:/e%3A/University/Senior-1/Semester%208/Computer%20Vision/Project/CSE483-Major-Task/Major%20Task%20Phase%202%20HOG.ipynb#X21sZmlsZQ%3D%3D?line=7'>8</a>\u001b[0m \u001b[39mreturn\u001b[39;00m predictions\n",
      "\u001b[1;32me:\\University\\Senior-1\\Semester 8\\Computer Vision\\Project\\CSE483-Major-Task\\Major Task Phase 2 HOG.ipynb Cell 17\u001b[0m in \u001b[0;36mMSD\u001b[1;34m(img_hog, tmps_data)\u001b[0m\n\u001b[0;32m      <a href='vscode-notebook-cell:/e%3A/University/Senior-1/Semester%208/Computer%20Vision/Project/CSE483-Major-Task/Major%20Task%20Phase%202%20HOG.ipynb#X21sZmlsZQ%3D%3D?line=1'>2</a>\u001b[0m img_hog \u001b[39m=\u001b[39m np\u001b[39m.\u001b[39marray(img_hog)\n\u001b[0;32m      <a href='vscode-notebook-cell:/e%3A/University/Senior-1/Semester%208/Computer%20Vision/Project/CSE483-Major-Task/Major%20Task%20Phase%202%20HOG.ipynb#X21sZmlsZQ%3D%3D?line=2'>3</a>\u001b[0m tmps_data \u001b[39m=\u001b[39m np\u001b[39m.\u001b[39marray(tmps_data)\n\u001b[1;32m----> <a href='vscode-notebook-cell:/e%3A/University/Senior-1/Semester%208/Computer%20Vision/Project/CSE483-Major-Task/Major%20Task%20Phase%202%20HOG.ipynb#X21sZmlsZQ%3D%3D?line=3'>4</a>\u001b[0m \u001b[39mreturn\u001b[39;00m np\u001b[39m.\u001b[39margmin(np\u001b[39m.\u001b[39;49msum((tmps_data \u001b[39m-\u001b[39;49m img_hog) \u001b[39m*\u001b[39;49m\u001b[39m*\u001b[39;49m \u001b[39m2\u001b[39;49m, axis\u001b[39m=\u001b[39;49m\u001b[39m1\u001b[39;49m))\n",
      "File \u001b[1;32m<__array_function__ internals>:177\u001b[0m, in \u001b[0;36msum\u001b[1;34m(*args, **kwargs)\u001b[0m\n",
      "\u001b[1;31mKeyboardInterrupt\u001b[0m: "
     ]
    }
   ],
   "source": [
    "for k in range(1,10):\n",
    "    templates = getTemplatesHOGs()\n",
    "    tmps_data = [temp['descriptor'] for temp in templates]\n",
    "    tmps_labels = [temp['label'] for temp in templates]\n",
    "    # knn = KNeighborsClassifier(n_neighbors=k)\n",
    "    # knn.fit(tmps_data, tmps_labels)\n",
    "\n",
    "    acc = []\n",
    "    for image, boxes, label in zip(train_images_all[:5000], train_boxes_all[:5000], train_labels_all[:5000]):\n",
    "        if(len(boxes)==0):\n",
    "            continue\n",
    "        x = calcPicRecall(list(label), predictImage(image, boxes, tmps_data, tmps_labels))\n",
    "        acc.append(x)\n",
    "    print(k, np.average(acc))"
   ]
  },
  {
   "cell_type": "code",
   "execution_count": null,
   "metadata": {},
   "outputs": [
    {
     "name": "stdout",
     "output_type": "stream",
     "text": [
      "[1.0, 0.75, 0.75, 0.75, 0.75, 0.6666666666666666, 0.6666666666666666, 0.6666666666666666, 0.6666666666666666, 0.6666666666666666, 0.6666666666666666, 0.6666666666666666, 0.6666666666666666, 0.6666666666666666, 0.6666666666666666, 0.6666666666666666, 0.6666666666666666, 0.6666666666666666, 0.6666666666666666, 0.6666666666666666, 0.6666666666666666, 0.6666666666666666, 0.6666666666666666, 0.6666666666666666, 0.6666666666666666, 0.6666666666666666, 0.6666666666666666, 0.6666666666666666, 0.6666666666666666, 0.6666666666666666, 0.6666666666666666, 0.6666666666666666, 0.6666666666666666, 0.6666666666666666, 0.6666666666666666, 0.6666666666666666, 0.6666666666666666, 0.6666666666666666, 0.6666666666666666, 0.6666666666666666, 0.6666666666666666, 0.6666666666666666, 0.6666666666666666, 0.6666666666666666, 0.6666666666666666, 0.6666666666666666, 0.6666666666666666, 0.6666666666666666, 0.6666666666666666, 0.6666666666666666, 0.6666666666666666, 0.6666666666666666, 0.6666666666666666, 0.6666666666666666, 0.6666666666666666, 0.6666666666666666, 0.6666666666666666, 0.6666666666666666, 0.6666666666666666, 0.6666666666666666, 0.6666666666666666, 0.6666666666666666, 0.6666666666666666, 0.6666666666666666, 0.6666666666666666, 0.6666666666666666, 0.6666666666666666, 0.6666666666666666, 0.6666666666666666, 0.6666666666666666, 0.6666666666666666, 0.6666666666666666, 0.6666666666666666, 0.6666666666666666, 0.6666666666666666, 0.6666666666666666, 0.6666666666666666, 0.6666666666666666, 0.6666666666666666, 0.6666666666666666, 0.6666666666666666, 0.6666666666666666, 0.6666666666666666, 0.6666666666666666, 0.6666666666666666, 0.6666666666666666, 0.6666666666666666, 0.6666666666666666, 0.6666666666666666, 0.6666666666666666, 0.6666666666666666, 0.6666666666666666, 0.6666666666666666, 0.6666666666666666, 0.6666666666666666, 0.6666666666666666, 0.6666666666666666, 0.6666666666666666, 0.6666666666666666, 0.6666666666666666, 0.6666666666666666, 0.6666666666666666, 0.6666666666666666, 0.6666666666666666, 0.6666666666666666, 0.6666666666666666, 0.6666666666666666, 0.6666666666666666, 0.6666666666666666, 0.6666666666666666, 0.6666666666666666, 0.6666666666666666, 0.6666666666666666, 0.6666666666666666, 0.6666666666666666, 0.6666666666666666, 0.6666666666666666, 0.6666666666666666, 0.6666666666666666, 0.6666666666666666, 0.6666666666666666, 0.6666666666666666, 0.6666666666666666, 0.6666666666666666, 0.6666666666666666, 0.6666666666666666, 0.6666666666666666, 0.6666666666666666, 0.6666666666666666, 0.6666666666666666, 0.6666666666666666, 0.6666666666666666, 0.6666666666666666, 0.6666666666666666, 0.6666666666666666, 0.6666666666666666, 0.6666666666666666, 0.6666666666666666, 0.6666666666666666, 0.6666666666666666, 0.6666666666666666, 0.6666666666666666, 0.6666666666666666, 0.6666666666666666, 0.6666666666666666, 0.6666666666666666, 0.6666666666666666, 0.6666666666666666, 0.6666666666666666, 0.6666666666666666, 0.6666666666666666, 0.6666666666666666, 0.6666666666666666, 0.6666666666666666, 0.6666666666666666, 0.6666666666666666, 0.6666666666666666, 0.6666666666666666, 0.6666666666666666, 0.6666666666666666, 0.6666666666666666, 0.6666666666666666, 0.6666666666666666, 0.6666666666666666, 0.6666666666666666, 0.6666666666666666, 0.6666666666666666, 0.6666666666666666, 0.6666666666666666, 0.6666666666666666, 0.6666666666666666, 0.6666666666666666, 0.6666666666666666, 0.6666666666666666, 0.6666666666666666, 0.6666666666666666, 0.6666666666666666, 0.6666666666666666, 0.6666666666666666, 0.6666666666666666, 0.6666666666666666, 0.6666666666666666, 0.6666666666666666, 0.6666666666666666, 0.6666666666666666, 0.6666666666666666, 0.6666666666666666, 0.6666666666666666, 0.6666666666666666, 0.6666666666666666, 0.6666666666666666, 0.6666666666666666, 0.6666666666666666, 0.6666666666666666, 0.6666666666666666, 0.6666666666666666, 0.6666666666666666, 0.6666666666666666, 0.6666666666666666, 0.6666666666666666, 0.6666666666666666, 0.6666666666666666, 0.6666666666666666, 0.6666666666666666, 0.6666666666666666, 0.6666666666666666, 0.6666666666666666, 0.6666666666666666, 0.6666666666666666, 0.6666666666666666, 0.6666666666666666, 0.6666666666666666, 0.6666666666666666, 0.6666666666666666, 0.6666666666666666, 0.6666666666666666, 0.6666666666666666, 0.6666666666666666, 0.6666666666666666, 0.6666666666666666, 0.6666666666666666, 0.6666666666666666, 0.6666666666666666, 0.6666666666666666, 0.6666666666666666, 0.6666666666666666, 0.6666666666666666, 0.6666666666666666, 0.6666666666666666, 0.6666666666666666, 0.6666666666666666, 0.6666666666666666, 0.6666666666666666, 0.6666666666666666, 0.6666666666666666, 0.6666666666666666, 0.6666666666666666, 0.6666666666666666, 0.6666666666666666, 0.6666666666666666, 0.6666666666666666, 0.6666666666666666, 0.6666666666666666, 0.6666666666666666, 0.6666666666666666, 0.6666666666666666, 0.6666666666666666, 0.6666666666666666, 0.6666666666666666, 0.6666666666666666, 0.6666666666666666, 0.6666666666666666, 0.6666666666666666, 0.6666666666666666, 0.6666666666666666, 0.6666666666666666, 0.6666666666666666, 0.6666666666666666, 0.6666666666666666, 0.6666666666666666, 0.6666666666666666, 0.6666666666666666, 0.6666666666666666, 0.6666666666666666, 0.6666666666666666, 0.6666666666666666, 0.6666666666666666, 0.6666666666666666, 0.6666666666666666, 0.6666666666666666, 0.6666666666666666, 0.6666666666666666, 0.6666666666666666, 0.6666666666666666, 0.6666666666666666, 0.6666666666666666, 0.6666666666666666, 0.6666666666666666, 0.6666666666666666, 0.6666666666666666, 0.6666666666666666, 0.6666666666666666, 0.6666666666666666, 0.6666666666666666, 0.6666666666666666, 0.6666666666666666, 0.6666666666666666, 0.6666666666666666, 0.6666666666666666, 0.6666666666666666, 0.6666666666666666, 0.6666666666666666, 0.6666666666666666, 0.6666666666666666, 0.6666666666666666, 0.6666666666666666, 0.6666666666666666, 0.6666666666666666, 0.6666666666666666, 0.6666666666666666, 0.6666666666666666, 0.6666666666666666, 0.6666666666666666, 0.6666666666666666, 0.6666666666666666, 0.6666666666666666, 0.6666666666666666, 0.6666666666666666, 0.6666666666666666, 0.6666666666666666, 0.6666666666666666, 0.6666666666666666, 0.6666666666666666, 0.6666666666666666, 0.6666666666666666, 0.6666666666666666, 0.6666666666666666, 0.6666666666666666, 0.6666666666666666, 0.6666666666666666, 0.6666666666666666, 0.6666666666666666, 0.6666666666666666, 0.6666666666666666, 0.6666666666666666, 0.6666666666666666, 0.6666666666666666, 0.6666666666666666, 0.6666666666666666, 0.6666666666666666, 0.6666666666666666, 0.6666666666666666, 0.6666666666666666, 0.6666666666666666, 0.6666666666666666, 0.6666666666666666, 0.6666666666666666, 0.6666666666666666, 0.6666666666666666, 0.6666666666666666, 0.6666666666666666, 0.6666666666666666, 0.6666666666666666, 0.6666666666666666, 0.6666666666666666, 0.6666666666666666, 0.6666666666666666, 0.6666666666666666, 0.6666666666666666, 0.6666666666666666, 0.6666666666666666, 0.6666666666666666, 0.6666666666666666, 0.6666666666666666, 0.6666666666666666, 0.6666666666666666, 0.6666666666666666, 0.6666666666666666, 0.6666666666666666, 0.6666666666666666, 0.6666666666666666, 0.6666666666666666, 0.6666666666666666, 0.6666666666666666, 0.6666666666666666, 0.6666666666666666, 0.6666666666666666, 0.6666666666666666, 0.6666666666666666, 0.6666666666666666, 0.6666666666666666, 0.6666666666666666, 0.6666666666666666, 0.6666666666666666, 0.6666666666666666, 0.6666666666666666, 0.6666666666666666, 0.6666666666666666, 0.6666666666666666, 0.6666666666666666, 0.6666666666666666, 0.6666666666666666, 0.6666666666666666, 0.6666666666666666, 0.6666666666666666, 0.6666666666666666, 0.6666666666666666, 0.6666666666666666, 0.6666666666666666, 0.6666666666666666, 0.6666666666666666, 0.6666666666666666, 0.6666666666666666, 0.6666666666666666, 0.6666666666666666, 0.6666666666666666, 0.6666666666666666, 0.6666666666666666, 0.6666666666666666, 0.6666666666666666, 0.6666666666666666, 0.6666666666666666, 0.6666666666666666, 0.6666666666666666, 0.6666666666666666, 0.6666666666666666, 0.6666666666666666, 0.6666666666666666, 0.6666666666666666, 0.6666666666666666, 0.6666666666666666, 0.6666666666666666, 0.6666666666666666, 0.6666666666666666, 0.6666666666666666, 0.6666666666666666, 0.6666666666666666, 0.6666666666666666, 0.6666666666666666, 0.6666666666666666, 0.6666666666666666, 0.6666666666666666, 0.6666666666666666, 0.6666666666666666, 0.6666666666666666, 0.6666666666666666, 0.6666666666666666, 0.6666666666666666, 0.6666666666666666, 0.6666666666666666, 0.6666666666666666, 0.6666666666666666, 0.6666666666666666, 0.6666666666666666, 0.6666666666666666, 0.6666666666666666, 0.6666666666666666, 0.6666666666666666, 0.6666666666666666, 0.6666666666666666, 0.6666666666666666, 0.6666666666666666, 0.6666666666666666, 0.6666666666666666, 0.6666666666666666, 0.6666666666666666, 0.6666666666666666, 0.6666666666666666, 0.6666666666666666, 0.6666666666666666, 0.6666666666666666, 0.6666666666666666, 0.6666666666666666, 0.6666666666666666, 0.6666666666666666, 0.6666666666666666, 0.6666666666666666, 0.6666666666666666, 0.6666666666666666, 0.6666666666666666, 0.6666666666666666, 0.6666666666666666, 0.6666666666666666, 0.6666666666666666, 0.6666666666666666, 0.6666666666666666, 0.6666666666666666, 0.6, 0.5, 0.5, 0.5, 0.5, 0.5, 0.5, 0.5, 0.5, 0.5, 0.5, 0.5, 0.5, 0.5, 0.5, 0.5, 0.5, 0.5, 0.5, 0.5, 0.5, 0.5, 0.5, 0.5, 0.5, 0.5, 0.5, 0.5, 0.5, 0.5, 0.5, 0.5, 0.5, 0.5, 0.5, 0.5, 0.5, 0.5, 0.5, 0.5, 0.5, 0.5, 0.5, 0.5, 0.5, 0.5, 0.5, 0.5, 0.5, 0.5, 0.5, 0.5, 0.5, 0.5, 0.5, 0.5, 0.5, 0.5, 0.5, 0.5, 0.5, 0.5, 0.5, 0.5, 0.5, 0.5, 0.5, 0.5, 0.5, 0.5, 0.5, 0.5, 0.5]\n"
     ]
    }
   ],
   "source": [
    "acc = sorted(acc, reverse=True)\n",
    "print(acc[460:1000])"
   ]
  },
  {
   "attachments": {},
   "cell_type": "markdown",
   "metadata": {},
   "source": [
    "------------------------------"
   ]
  }
 ],
 "metadata": {
  "kernelspec": {
   "display_name": "base",
   "language": "python",
   "name": "python3"
  },
  "language_info": {
   "codemirror_mode": {
    "name": "ipython",
    "version": 3
   },
   "file_extension": ".py",
   "mimetype": "text/x-python",
   "name": "python",
   "nbconvert_exporter": "python",
   "pygments_lexer": "ipython3",
   "version": "3.10.4"
  },
  "orig_nbformat": 4
 },
 "nbformat": 4,
 "nbformat_minor": 2
}
